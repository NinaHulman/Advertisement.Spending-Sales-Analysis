{
 "cells": [
  {
   "cell_type": "markdown",
   "id": "f2ac3af2",
   "metadata": {},
   "source": [
    "### ASSIGNMENT:"
   ]
  },
  {
   "cell_type": "markdown",
   "id": "a06e71bb",
   "metadata": {},
   "source": [
    " HINA Inc. is a large FMCG company that is streamlining its marketing budget. This involves taking stock of all its marketing strategies. This, in turn, means re-assessing the effectiveness of its existing spend on various marketing channels. As a marketing data analyst, you need to figure out if spending money on TV advertising campaigns results in a direct increase in sales. In other words, you need to find out if the TV advertising spend and the sales figures share a linear relationship and how strong that relationship is."
   ]
  },
  {
   "cell_type": "markdown",
   "id": "8d37a312",
   "metadata": {},
   "source": [
    "#### IMPORTING MODULES "
   ]
  },
  {
   "cell_type": "code",
   "execution_count": 1,
   "id": "405b2c75",
   "metadata": {},
   "outputs": [],
   "source": [
    "import numpy as np\n",
    "import pandas as pd\n",
    "import matplotlib.pyplot as plt\n",
    "import seaborn as sns\n",
    "from scipy import stats"
   ]
  },
  {
   "cell_type": "markdown",
   "id": "ec1ba05a",
   "metadata": {},
   "source": [
    "##### First, let's load and check the data. Chcek if there are any missing values. "
   ]
  },
  {
   "cell_type": "code",
   "execution_count": 3,
   "id": "df0caf27",
   "metadata": {},
   "outputs": [
    {
     "data": {
      "text/html": [
       "<div>\n",
       "<style scoped>\n",
       "    .dataframe tbody tr th:only-of-type {\n",
       "        vertical-align: middle;\n",
       "    }\n",
       "\n",
       "    .dataframe tbody tr th {\n",
       "        vertical-align: top;\n",
       "    }\n",
       "\n",
       "    .dataframe thead th {\n",
       "        text-align: right;\n",
       "    }\n",
       "</style>\n",
       "<table border=\"1\" class=\"dataframe\">\n",
       "  <thead>\n",
       "    <tr style=\"text-align: right;\">\n",
       "      <th></th>\n",
       "      <th>TV</th>\n",
       "      <th>Radio</th>\n",
       "      <th>Newspaper</th>\n",
       "      <th>Sales</th>\n",
       "    </tr>\n",
       "  </thead>\n",
       "  <tbody>\n",
       "    <tr>\n",
       "      <th>0</th>\n",
       "      <td>230.1</td>\n",
       "      <td>37.8</td>\n",
       "      <td>69.2</td>\n",
       "      <td>22.1</td>\n",
       "    </tr>\n",
       "    <tr>\n",
       "      <th>1</th>\n",
       "      <td>44.5</td>\n",
       "      <td>39.3</td>\n",
       "      <td>45.1</td>\n",
       "      <td>10.4</td>\n",
       "    </tr>\n",
       "    <tr>\n",
       "      <th>2</th>\n",
       "      <td>17.2</td>\n",
       "      <td>45.9</td>\n",
       "      <td>69.3</td>\n",
       "      <td>12.0</td>\n",
       "    </tr>\n",
       "    <tr>\n",
       "      <th>3</th>\n",
       "      <td>151.5</td>\n",
       "      <td>41.3</td>\n",
       "      <td>58.5</td>\n",
       "      <td>16.5</td>\n",
       "    </tr>\n",
       "    <tr>\n",
       "      <th>4</th>\n",
       "      <td>180.8</td>\n",
       "      <td>10.8</td>\n",
       "      <td>58.4</td>\n",
       "      <td>17.9</td>\n",
       "    </tr>\n",
       "  </tbody>\n",
       "</table>\n",
       "</div>"
      ],
      "text/plain": [
       "      TV  Radio  Newspaper  Sales\n",
       "0  230.1   37.8       69.2   22.1\n",
       "1   44.5   39.3       45.1   10.4\n",
       "2   17.2   45.9       69.3   12.0\n",
       "3  151.5   41.3       58.5   16.5\n",
       "4  180.8   10.8       58.4   17.9"
      ]
     },
     "execution_count": 3,
     "metadata": {},
     "output_type": "execute_result"
    }
   ],
   "source": [
    "#loading data with panda\n",
    "data = pd.read_csv(\"advertising.csv\")"
   ]
  },
  {
   "cell_type": "code",
   "execution_count": 5,
   "id": "982e1bd6",
   "metadata": {},
   "outputs": [
    {
     "data": {
      "text/html": [
       "<div>\n",
       "<style scoped>\n",
       "    .dataframe tbody tr th:only-of-type {\n",
       "        vertical-align: middle;\n",
       "    }\n",
       "\n",
       "    .dataframe tbody tr th {\n",
       "        vertical-align: top;\n",
       "    }\n",
       "\n",
       "    .dataframe thead th {\n",
       "        text-align: right;\n",
       "    }\n",
       "</style>\n",
       "<table border=\"1\" class=\"dataframe\">\n",
       "  <thead>\n",
       "    <tr style=\"text-align: right;\">\n",
       "      <th></th>\n",
       "      <th>TV</th>\n",
       "      <th>Radio</th>\n",
       "      <th>Newspaper</th>\n",
       "      <th>Sales</th>\n",
       "    </tr>\n",
       "  </thead>\n",
       "  <tbody>\n",
       "    <tr>\n",
       "      <th>0</th>\n",
       "      <td>230.1</td>\n",
       "      <td>37.8</td>\n",
       "      <td>69.2</td>\n",
       "      <td>22.1</td>\n",
       "    </tr>\n",
       "    <tr>\n",
       "      <th>1</th>\n",
       "      <td>44.5</td>\n",
       "      <td>39.3</td>\n",
       "      <td>45.1</td>\n",
       "      <td>10.4</td>\n",
       "    </tr>\n",
       "    <tr>\n",
       "      <th>2</th>\n",
       "      <td>17.2</td>\n",
       "      <td>45.9</td>\n",
       "      <td>69.3</td>\n",
       "      <td>12.0</td>\n",
       "    </tr>\n",
       "    <tr>\n",
       "      <th>3</th>\n",
       "      <td>151.5</td>\n",
       "      <td>41.3</td>\n",
       "      <td>58.5</td>\n",
       "      <td>16.5</td>\n",
       "    </tr>\n",
       "    <tr>\n",
       "      <th>4</th>\n",
       "      <td>180.8</td>\n",
       "      <td>10.8</td>\n",
       "      <td>58.4</td>\n",
       "      <td>17.9</td>\n",
       "    </tr>\n",
       "    <tr>\n",
       "      <th>...</th>\n",
       "      <td>...</td>\n",
       "      <td>...</td>\n",
       "      <td>...</td>\n",
       "      <td>...</td>\n",
       "    </tr>\n",
       "    <tr>\n",
       "      <th>195</th>\n",
       "      <td>38.2</td>\n",
       "      <td>3.7</td>\n",
       "      <td>13.8</td>\n",
       "      <td>7.6</td>\n",
       "    </tr>\n",
       "    <tr>\n",
       "      <th>196</th>\n",
       "      <td>94.2</td>\n",
       "      <td>4.9</td>\n",
       "      <td>8.1</td>\n",
       "      <td>14.0</td>\n",
       "    </tr>\n",
       "    <tr>\n",
       "      <th>197</th>\n",
       "      <td>177.0</td>\n",
       "      <td>9.3</td>\n",
       "      <td>6.4</td>\n",
       "      <td>14.8</td>\n",
       "    </tr>\n",
       "    <tr>\n",
       "      <th>198</th>\n",
       "      <td>283.6</td>\n",
       "      <td>42.0</td>\n",
       "      <td>66.2</td>\n",
       "      <td>25.5</td>\n",
       "    </tr>\n",
       "    <tr>\n",
       "      <th>199</th>\n",
       "      <td>232.1</td>\n",
       "      <td>8.6</td>\n",
       "      <td>8.7</td>\n",
       "      <td>18.4</td>\n",
       "    </tr>\n",
       "  </tbody>\n",
       "</table>\n",
       "<p>200 rows × 4 columns</p>\n",
       "</div>"
      ],
      "text/plain": [
       "        TV  Radio  Newspaper  Sales\n",
       "0    230.1   37.8       69.2   22.1\n",
       "1     44.5   39.3       45.1   10.4\n",
       "2     17.2   45.9       69.3   12.0\n",
       "3    151.5   41.3       58.5   16.5\n",
       "4    180.8   10.8       58.4   17.9\n",
       "..     ...    ...        ...    ...\n",
       "195   38.2    3.7       13.8    7.6\n",
       "196   94.2    4.9        8.1   14.0\n",
       "197  177.0    9.3        6.4   14.8\n",
       "198  283.6   42.0       66.2   25.5\n",
       "199  232.1    8.6        8.7   18.4\n",
       "\n",
       "[200 rows x 4 columns]"
      ]
     },
     "metadata": {},
     "output_type": "display_data"
    },
    {
     "data": {
      "text/html": [
       "<div>\n",
       "<style scoped>\n",
       "    .dataframe tbody tr th:only-of-type {\n",
       "        vertical-align: middle;\n",
       "    }\n",
       "\n",
       "    .dataframe tbody tr th {\n",
       "        vertical-align: top;\n",
       "    }\n",
       "\n",
       "    .dataframe thead th {\n",
       "        text-align: right;\n",
       "    }\n",
       "</style>\n",
       "<table border=\"1\" class=\"dataframe\">\n",
       "  <thead>\n",
       "    <tr style=\"text-align: right;\">\n",
       "      <th></th>\n",
       "      <th>TV</th>\n",
       "      <th>Radio</th>\n",
       "      <th>Newspaper</th>\n",
       "      <th>Sales</th>\n",
       "    </tr>\n",
       "  </thead>\n",
       "  <tbody>\n",
       "    <tr>\n",
       "      <th>count</th>\n",
       "      <td>200.000000</td>\n",
       "      <td>200.000000</td>\n",
       "      <td>200.000000</td>\n",
       "      <td>200.000000</td>\n",
       "    </tr>\n",
       "    <tr>\n",
       "      <th>mean</th>\n",
       "      <td>147.042500</td>\n",
       "      <td>23.264000</td>\n",
       "      <td>30.554000</td>\n",
       "      <td>15.130500</td>\n",
       "    </tr>\n",
       "    <tr>\n",
       "      <th>std</th>\n",
       "      <td>85.854236</td>\n",
       "      <td>14.846809</td>\n",
       "      <td>21.778621</td>\n",
       "      <td>5.283892</td>\n",
       "    </tr>\n",
       "    <tr>\n",
       "      <th>min</th>\n",
       "      <td>0.700000</td>\n",
       "      <td>0.000000</td>\n",
       "      <td>0.300000</td>\n",
       "      <td>1.600000</td>\n",
       "    </tr>\n",
       "    <tr>\n",
       "      <th>25%</th>\n",
       "      <td>74.375000</td>\n",
       "      <td>9.975000</td>\n",
       "      <td>12.750000</td>\n",
       "      <td>11.000000</td>\n",
       "    </tr>\n",
       "    <tr>\n",
       "      <th>50%</th>\n",
       "      <td>149.750000</td>\n",
       "      <td>22.900000</td>\n",
       "      <td>25.750000</td>\n",
       "      <td>16.000000</td>\n",
       "    </tr>\n",
       "    <tr>\n",
       "      <th>75%</th>\n",
       "      <td>218.825000</td>\n",
       "      <td>36.525000</td>\n",
       "      <td>45.100000</td>\n",
       "      <td>19.050000</td>\n",
       "    </tr>\n",
       "    <tr>\n",
       "      <th>max</th>\n",
       "      <td>296.400000</td>\n",
       "      <td>49.600000</td>\n",
       "      <td>114.000000</td>\n",
       "      <td>27.000000</td>\n",
       "    </tr>\n",
       "  </tbody>\n",
       "</table>\n",
       "</div>"
      ],
      "text/plain": [
       "               TV       Radio   Newspaper       Sales\n",
       "count  200.000000  200.000000  200.000000  200.000000\n",
       "mean   147.042500   23.264000   30.554000   15.130500\n",
       "std     85.854236   14.846809   21.778621    5.283892\n",
       "min      0.700000    0.000000    0.300000    1.600000\n",
       "25%     74.375000    9.975000   12.750000   11.000000\n",
       "50%    149.750000   22.900000   25.750000   16.000000\n",
       "75%    218.825000   36.525000   45.100000   19.050000\n",
       "max    296.400000   49.600000  114.000000   27.000000"
      ]
     },
     "execution_count": 5,
     "metadata": {},
     "output_type": "execute_result"
    }
   ],
   "source": [
    "#get a quick look at the data, shape and basic values\n",
    "display(data)\n",
    "data.shape\n",
    "data.describe()"
   ]
  },
  {
   "cell_type": "markdown",
   "id": "5930cb7e",
   "metadata": {},
   "source": [
    "TV column represents amount spent on TV ads.\n",
    "Radio is amount spent on radio ads.\n",
    "Newspaper is amount spent on newspaper ads.\n",
    "Sales is the amount of sales done over a period of time. It is in thousands of dollars and the data were collected weekly.\n"
   ]
  },
  {
   "cell_type": "code",
   "execution_count": 6,
   "id": "f7608a6e",
   "metadata": {},
   "outputs": [
    {
     "name": "stdout",
     "output_type": "stream",
     "text": [
      "<class 'pandas.core.frame.DataFrame'>\n",
      "RangeIndex: 200 entries, 0 to 199\n",
      "Data columns (total 4 columns):\n",
      " #   Column     Non-Null Count  Dtype  \n",
      "---  ------     --------------  -----  \n",
      " 0   TV         200 non-null    float64\n",
      " 1   Radio      200 non-null    float64\n",
      " 2   Newspaper  200 non-null    float64\n",
      " 3   Sales      200 non-null    float64\n",
      "dtypes: float64(4)\n",
      "memory usage: 6.4 KB\n"
     ]
    }
   ],
   "source": [
    "#looking if there are any missing values\n",
    "data.info()\n"
   ]
  },
  {
   "cell_type": "code",
   "execution_count": 8,
   "id": "777b8389",
   "metadata": {},
   "outputs": [
    {
     "name": "stdout",
     "output_type": "stream",
     "text": [
      "No missing.\n"
     ]
    }
   ],
   "source": [
    "missing_data = data.isnull().values.any()\n",
    "if not missing_data:\n",
    "    print(\"No missing.\")\n",
    "else:\n",
    "    print(\"Some missing!\")"
   ]
  },
  {
   "cell_type": "code",
   "execution_count": 10,
   "id": "06d9d8a9",
   "metadata": {},
   "outputs": [
    {
     "name": "stdout",
     "output_type": "stream",
     "text": [
      "TV\n",
      "False    200\n",
      "Name: TV, dtype: int64\n",
      "Radio\n",
      "False    200\n",
      "Name: Radio, dtype: int64\n",
      "Newspaper\n",
      "False    200\n",
      "Name: Newspaper, dtype: int64\n",
      "Sales\n",
      "False    200\n",
      "Name: Sales, dtype: int64\n"
     ]
    }
   ],
   "source": [
    "# printing all the column names in the missing data and then counting and printing missing data count\n",
    "missing_data = data.isnull()\n",
    "for column in list(missing_data.columns):\n",
    "    print(column)  # It will print all the column names\n",
    "    print(missing_data[column].value_counts()) #It will count the data values "
   ]
  },
  {
   "cell_type": "markdown",
   "id": "21e6529e",
   "metadata": {},
   "source": [
    "Looks like data is clear and we can start analysing. "
   ]
  },
  {
   "cell_type": "markdown",
   "id": "ac5d343b",
   "metadata": {},
   "source": [
    "#### EXPLORING INTERDEPENDENCE BETWEEN ADVERTISING AND SALES USING CORRELATION\n"
   ]
  },
  {
   "cell_type": "code",
   "execution_count": 13,
   "id": "1e0c0a20",
   "metadata": {},
   "outputs": [
    {
     "name": "stdout",
     "output_type": "stream",
     "text": [
      "0.9012079133023305\n"
     ]
    }
   ],
   "source": [
    "tv_and_sales = data.Sales.corr(data.TV)\n",
    "print(tv_and_sales)"
   ]
  },
  {
   "cell_type": "markdown",
   "id": "21eec434",
   "metadata": {},
   "source": [
    "There is a strong correlation between advertisment spending on TV and amount of Sales because the number is closer to 1."
   ]
  },
  {
   "cell_type": "code",
   "execution_count": 15,
   "id": "f2a22348",
   "metadata": {},
   "outputs": [
    {
     "name": "stdout",
     "output_type": "stream",
     "text": [
      "0.34963109700766937\n"
     ]
    }
   ],
   "source": [
    "radio_and_sales = data.Sales.corr(data.Radio)\n",
    "print(radio_and_sales)"
   ]
  },
  {
   "cell_type": "markdown",
   "id": "13b4cddc",
   "metadata": {},
   "source": [
    "There is a weak relationship between advertisment spending on Radio and Sales"
   ]
  },
  {
   "cell_type": "code",
   "execution_count": 16,
   "id": "473e4e59",
   "metadata": {},
   "outputs": [
    {
     "name": "stdout",
     "output_type": "stream",
     "text": [
      "0.15796002615492624\n"
     ]
    }
   ],
   "source": [
    "news_and_sales = data.Sales.corr(data.Newspaper)\n",
    "print(news_and_sales)"
   ]
  },
  {
   "cell_type": "markdown",
   "id": "71e2f2ae",
   "metadata": {},
   "source": [
    "There is a very weak correlation between Newspaper advertising and Sales."
   ]
  },
  {
   "cell_type": "markdown",
   "id": "82c2ff99",
   "metadata": {},
   "source": [
    "##### Correlation of all variables shown in a matrix for better visualisation"
   ]
  },
  {
   "cell_type": "code",
   "execution_count": 17,
   "id": "c635d874",
   "metadata": {},
   "outputs": [
    {
     "data": {
      "text/html": [
       "<div>\n",
       "<style scoped>\n",
       "    .dataframe tbody tr th:only-of-type {\n",
       "        vertical-align: middle;\n",
       "    }\n",
       "\n",
       "    .dataframe tbody tr th {\n",
       "        vertical-align: top;\n",
       "    }\n",
       "\n",
       "    .dataframe thead th {\n",
       "        text-align: right;\n",
       "    }\n",
       "</style>\n",
       "<table border=\"1\" class=\"dataframe\">\n",
       "  <thead>\n",
       "    <tr style=\"text-align: right;\">\n",
       "      <th></th>\n",
       "      <th>TV</th>\n",
       "      <th>Radio</th>\n",
       "      <th>Newspaper</th>\n",
       "      <th>Sales</th>\n",
       "    </tr>\n",
       "  </thead>\n",
       "  <tbody>\n",
       "    <tr>\n",
       "      <th>TV</th>\n",
       "      <td>1.000000</td>\n",
       "      <td>0.054809</td>\n",
       "      <td>0.056648</td>\n",
       "      <td>0.901208</td>\n",
       "    </tr>\n",
       "    <tr>\n",
       "      <th>Radio</th>\n",
       "      <td>0.054809</td>\n",
       "      <td>1.000000</td>\n",
       "      <td>0.354104</td>\n",
       "      <td>0.349631</td>\n",
       "    </tr>\n",
       "    <tr>\n",
       "      <th>Newspaper</th>\n",
       "      <td>0.056648</td>\n",
       "      <td>0.354104</td>\n",
       "      <td>1.000000</td>\n",
       "      <td>0.157960</td>\n",
       "    </tr>\n",
       "    <tr>\n",
       "      <th>Sales</th>\n",
       "      <td>0.901208</td>\n",
       "      <td>0.349631</td>\n",
       "      <td>0.157960</td>\n",
       "      <td>1.000000</td>\n",
       "    </tr>\n",
       "  </tbody>\n",
       "</table>\n",
       "</div>"
      ],
      "text/plain": [
       "                 TV     Radio  Newspaper     Sales\n",
       "TV         1.000000  0.054809   0.056648  0.901208\n",
       "Radio      0.054809  1.000000   0.354104  0.349631\n",
       "Newspaper  0.056648  0.354104   1.000000  0.157960\n",
       "Sales      0.901208  0.349631   0.157960  1.000000"
      ]
     },
     "execution_count": 17,
     "metadata": {},
     "output_type": "execute_result"
    }
   ],
   "source": [
    "data.corr()"
   ]
  },
  {
   "cell_type": "code",
   "execution_count": 18,
   "id": "f2b48da3",
   "metadata": {},
   "outputs": [
    {
     "data": {
      "image/png": "[encoded data removed]",
      "text/plain": [
       "<Figure size 432x288 with 2 Axes>"
      ]
     },
     "metadata": {
      "needs_background": "light"
     },
     "output_type": "display_data"
    }
   ],
   "source": [
    "sns.heatmap(data.corr(), cmap='coolwarm', annot=True)\n",
    "plt.show()"
   ]
  },
  {
   "cell_type": "markdown",
   "id": "af4dcc51",
   "metadata": {},
   "source": [
    "By looking at the correlation plot it is clear that TV compaign and Sales are highly correlated but newspaper and Radio compaign have a weak correlation with the sales."
   ]
  },
  {
   "cell_type": "markdown",
   "id": "eec239f6",
   "metadata": {},
   "source": [
    "#### VISUALISATION OF THE CORRELATION "
   ]
  },
  {
   "cell_type": "code",
   "execution_count": 20,
   "id": "f8611d21",
   "metadata": {},
   "outputs": [
    {
     "data": {
      "text/plain": [
       "Text(0.5, 1.0, 'TV campaign spends vs Sales')"
      ]
     },
     "execution_count": 20,
     "metadata": {},
     "output_type": "execute_result"
    },
    {
     "data": {
      "image/png": "[encoded data removed]",
      "text/plain": [
       "<Figure size 432x288 with 1 Axes>"
      ]
     },
     "metadata": {
      "needs_background": "light"
     },
     "output_type": "display_data"
    }
   ],
   "source": [
    "# Lets do a linear regression to visualise each correlation \n",
    "plt.ylim(0,)\n",
    "plt.xlabel(\"TV advertising\")\n",
    "plt.ylabel(\"Sales\")\n",
    "plt.title('TV campaign spends vs Sales')"
   ]
  },
  {
   "cell_type": "code",
   "execution_count": 21,
   "id": "3892e051",
   "metadata": {},
   "outputs": [
    {
     "data": {
      "text/plain": [
       "Text(0.5, 1.0, 'Radio campaign spends vs Sales')"
      ]
     },
     "execution_count": 21,
     "metadata": {},
     "output_type": "execute_result"
    },
    {
     "data": {
      "image/png": "[encoded data removed]",
      "text/plain": [
       "<Figure size 432x288 with 1 Axes>"
      ]
     },
     "metadata": {
      "needs_background": "light"
     },
     "output_type": "display_data"
    }
   ],
   "source": [
    "#linear regression to visualise the correltion between Radio advertising and Sales\n",
    "sns.regplot(x=\"Radio\", y=\"Sales\", data=data)\n",
    "plt.ylim(0,)\n",
    "plt.xlabel(\"Radio advertising\")\n",
    "plt.ylabel(\"Sales\")\n",
    "plt.title('Radio campaign spends vs Sales')"
   ]
  },
  {
   "cell_type": "code",
   "execution_count": 22,
   "id": "0241be47",
   "metadata": {},
   "outputs": [
    {
     "data": {
      "text/plain": [
       "Text(0.5, 1.0, 'Newspaper campaign spends vs Sales')"
      ]
     },
     "execution_count": 22,
     "metadata": {},
     "output_type": "execute_result"
    },
    {
     "data": {
      "image/png": "[encoded data removed]",
      "text/plain": [
       "<Figure size 432x288 with 1 Axes>"
      ]
     },
     "metadata": {
      "needs_background": "light"
     },
     "output_type": "display_data"
    }
   ],
   "source": [
    "#linear regression to visualise the correlation between Radio advertising and Sales\n",
    "sns.regplot(x=\"Newspaper\", y=\"Sales\", data=data)\n",
    "plt.ylim(0,)\n",
    "plt.xlabel(\"Newspaper advertising\")\n",
    "plt.ylabel(\"Sales\")\n",
    "plt.title('Newspaper campaign spends vs Sales')"
   ]
  },
  {
   "cell_type": "markdown",
   "id": "a77f6dd5",
   "metadata": {},
   "source": [
    "On the visualisation we can see that the linear regression between advertisment spend on TV and Sales is the strongest. When the spending on advertisment goes higher the Sales grows steeper than in other two cases. We can also see that in this case the samples follow closely the linear relation."
   ]
  },
  {
   "cell_type": "markdown",
   "id": "e0da0a16",
   "metadata": {},
   "source": [
    "#### DETERMINING IF THE RELATIONSHIP IS STATISTICALLY SIGNIFICANT BY GETTING THE P-VALUES"
   ]
  },
  {
   "cell_type": "markdown",
   "id": "685fc30a",
   "metadata": {},
   "source": [
    "Assuming an alpha value of 0.05 or 5% is there a significant evidence to show that the TV advertising campaigns have a relationship with the sales. Therefore:\n",
    "\n",
    "H0: \"There is non-linear relationship between TV/Radio/Newspaper compaign and Sales\"\n",
    "H1: \"There is a strong linear relationship between TV/Radio/Newspaper compaign and Sales\"\n",
    "\n",
    "significance level (alpha) = 0.05\n"
   ]
  },
  {
   "cell_type": "markdown",
   "id": "720c58f1",
   "metadata": {},
   "source": [
    "##### Calculating the p-value to be able to see how strong the correlation is"
   ]
  },
  {
   "cell_type": "code",
   "execution_count": 23,
   "id": "f90642df",
   "metadata": {},
   "outputs": [
    {
     "name": "stdout",
     "output_type": "stream",
     "text": [
      "The Pearson Correlation Coefficient is 0.9012079133023307 with a p_value of P = 7.927911625321269e-74\n"
     ]
    }
   ],
   "source": [
    "pearson_coef, p_value = stats.pearsonr(data['TV'], data['Sales'])\n",
    "print(f\"The Pearson Correlation Coefficient is {pearson_coef} with a p_value of P = {p_value}\")"
   ]
  },
  {
   "cell_type": "markdown",
   "id": "b2e307f2",
   "metadata": {},
   "source": [
    "##### Conclusion\n",
    "Since the P-Value < 0.05:the correlation between TV advertising campaign and Sales is statistically significant, and the linear relationship is very very strong of 0.901208. We can reject the HO and confirm H1."
   ]
  },
  {
   "cell_type": "code",
   "execution_count": 24,
   "id": "bfd3f3e2",
   "metadata": {},
   "outputs": [
    {
     "name": "stdout",
     "output_type": "stream",
     "text": [
      "The Pearson Correlation Coefficient is 0.34963109700766914 with a p_value of P = 3.882892364494227e-07\n"
     ]
    }
   ],
   "source": [
    "pearson_coef, p_value = stats.pearsonr(data['Radio'], data['Sales'])\n",
    "print(f\"The Pearson Correlation Coefficient is {pearson_coef} with a p_value of P = {p_value}\")"
   ]
  },
  {
   "cell_type": "markdown",
   "id": "279257a5",
   "metadata": {},
   "source": [
    "##### Conclusion\n",
    "Since the P-Value < 0.05:the correlation between Radio advertising compaign and Sales is statistically significant, and the linear relationship is not very strong of 0.349361 We can reject HO and confirm H1."
   ]
  },
  {
   "cell_type": "code",
   "execution_count": 25,
   "id": "0f4d0a0b",
   "metadata": {},
   "outputs": [
    {
     "name": "stdout",
     "output_type": "stream",
     "text": [
      "The Pearson Correlation Coefficient is 0.1579600261549263 with a p_value of P = 0.025487444306997908\n"
     ]
    }
   ],
   "source": [
    "pearson_coef, p_value = stats.pearsonr(data['Newspaper'], data['Sales'])\n",
    "print(f\"The Pearson Correlation Coefficient is {pearson_coef} with a p_value of P = {p_value}\")"
   ]
  },
  {
   "cell_type": "markdown",
   "id": "07f0802a",
   "metadata": {},
   "source": [
    "##### Conclusion\n",
    "Since the P-Value < 0.05: the correlation between Newspaper advertising compaign and Sales is statistically significant we can reject HO but the linear relationship is very weak of 0.157960 so I wouldn't talk about strong interdependence as it is mentioned in H1."
   ]
  },
  {
   "cell_type": "markdown",
   "id": "24573834",
   "metadata": {},
   "source": [
    "#### DISCUSS THE POSSIBILITY OF CORRELATION, CAUSATION OR BOTH BETWEEN THE INDIVIDUAL FEATURE AND SALES"
   ]
  },
  {
   "cell_type": "markdown",
   "id": "7609a08a",
   "metadata": {},
   "source": [
    "##### Summary:\n",
    "   In the analysis a Pearson Correlation Coefficient was calculated between each of the advertising modes, TV, Radio and Newspaper, together with a p-value to measure its significance. There is a very strong positive correlation between TV advertising and sales with a high degree of siginificance, in other words the correlation shows sales increasing with TV advertising and its exremely unlikely to be a result of chance. Radio advertising on the otherhand showed only a moderate positive correlation with sales and newspaper advertising had a weak positive correlation with sales. Both the correlation figures of radio and newspaper had a high degree of significance."
   ]
  },
  {
   "cell_type": "markdown",
   "id": "4ad3326b",
   "metadata": {},
   "source": [
    "##### Conclusion:\n",
    "   Although we can see that sales and diffrent modes of advertisment is positively correlated we can not safely state that there is a causation in between as well. The data is not sufficient and we would need more variable data to determine what can affect the sales. \n",
    "    "
   ]
  }
 ],
 "metadata": {
  "kernelspec": {
   "display_name": "Python 3 (ipykernel)",
   "language": "python",
   "name": "python3"
  },
  "language_info": {
   "codemirror_mode": {
    "name": "ipython",
    "version": 3
   },
   "file_extension": ".py",
   "mimetype": "text/x-python",
   "name": "python",
   "nbconvert_exporter": "python",
   "pygments_lexer": "ipython3",
   "version": "3.9.12"
  }
 },
 "nbformat": 4,
 "nbformat_minor": 5
}
